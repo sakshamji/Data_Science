{
  "nbformat": 4,
  "nbformat_minor": 0,
  "metadata": {
    "colab": {
      "name": "Understanding_Linear_Regression.ipynb",
      "provenance": [],
      "authorship_tag": "ABX9TyNGqQCjvTu7Plu2kPGoYe1U",
      "include_colab_link": true
    },
    "kernelspec": {
      "name": "python3",
      "display_name": "Python 3"
    }
  },
  "cells": [
    {
      "cell_type": "markdown",
      "metadata": {
        "id": "view-in-github",
        "colab_type": "text"
      },
      "source": [
        "<a href=\"https://colab.research.google.com/github/sakshamji/Data_Science/blob/master/Understanding_Linear_Regression.ipynb\" target=\"_parent\"><img src=\"https://colab.research.google.com/assets/colab-badge.svg\" alt=\"Open In Colab\"/></a>"
      ]
    },
    {
      "cell_type": "code",
      "metadata": {
        "id": "wk7WVqPl-EH3",
        "colab_type": "code",
        "colab": {}
      },
      "source": [
        "from statistics import mean\n",
        "import numpy as np"
      ],
      "execution_count": 0,
      "outputs": []
    },
    {
      "cell_type": "code",
      "metadata": {
        "id": "y4xzqKdo-LnR",
        "colab_type": "code",
        "colab": {}
      },
      "source": [
        "xs=np.array([1,2,3,4,5,6,8,9,10],dtype=np.float64)\n",
        "ys=np.array([5,4,6,5,6,7,8,9,10],dtype=np.float64)"
      ],
      "execution_count": 0,
      "outputs": []
    },
    {
      "cell_type": "code",
      "metadata": {
        "id": "1yYejhK4-Xq0",
        "colab_type": "code",
        "colab": {
          "base_uri": "https://localhost:8080/",
          "height": 265
        },
        "outputId": "68e2435f-31e9-442b-d1eb-e548a2db9280"
      },
      "source": [
        "import matplotlib.pyplot as plt\n",
        "plt.scatter(xs,ys)\n",
        "plt.show()"
      ],
      "execution_count": 26,
      "outputs": [
        {
          "output_type": "display_data",
          "data": {
            "image/png": "[encoded data removed]",
            "text/plain": [
              "<Figure size 432x288 with 1 Axes>"
            ]
          },
          "metadata": {
            "tags": [],
            "needs_background": "light"
          }
        }
      ]
    },
    {
      "cell_type": "code",
      "metadata": {
        "id": "piWUxXE0-gOM",
        "colab_type": "code",
        "colab": {
          "base_uri": "https://localhost:8080/",
          "height": 35
        },
        "outputId": "055f7bb9-5704-44d8-8bf8-94b08735b84d"
      },
      "source": [
        "def best_fit_slope(xs,ys):\n",
        "  numerator = (np.mean(xs)*np.mean(ys)) - np.mean(xs*ys)\n",
        "  denominator = np.mean(xs)**2 - np.mean(xs**2)\n",
        "  return numerator/denominator\n",
        "  \n",
        "\n",
        "m=best_fit_slope(xs,ys)\n",
        "print(m)"
      ],
      "execution_count": 27,
      "outputs": [
        {
          "output_type": "stream",
          "text": [
            "0.5999999999999992\n"
          ],
          "name": "stdout"
        }
      ]
    },
    {
      "cell_type": "code",
      "metadata": {
        "id": "rNebS_TG_iDI",
        "colab_type": "code",
        "colab": {
          "base_uri": "https://localhost:8080/",
          "height": 35
        },
        "outputId": "8cdd70c2-f5b2-47d0-9e30-259c18c4d3af"
      },
      "source": [
        "def best_fit_intercept(xs,ys):\n",
        "  m=best_fit_slope(xs,ys)\n",
        "  b=mean(ys)-m*mean(xs)\n",
        "  return b\n",
        "\n",
        "c=best_fit_intercept(xs,ys)\n",
        "print(c)\n",
        "\n",
        "\n",
        "\n"
      ],
      "execution_count": 28,
      "outputs": [
        {
          "output_type": "stream",
          "text": [
            "3.4666666666666712\n"
          ],
          "name": "stdout"
        }
      ]
    },
    {
      "cell_type": "code",
      "metadata": {
        "id": "MSoOSACWA9a4",
        "colab_type": "code",
        "colab": {
          "base_uri": "https://localhost:8080/",
          "height": 283
        },
        "outputId": "43fbdf1e-ba62-4920-cc2d-0e7878cdcb58"
      },
      "source": [
        "plt.scatter(xs,ys)\n",
        "regression_line=m*xs+c\n",
        "plt.plot(xs,regression_line)"
      ],
      "execution_count": 29,
      "outputs": [
        {
          "output_type": "execute_result",
          "data": {
            "text/plain": [
              "[<matplotlib.lines.Line2D at 0x7fd5b417dc88>]"
            ]
          },
          "metadata": {
            "tags": []
          },
          "execution_count": 29
        },
        {
          "output_type": "display_data",
          "data": {
            "image/png": "[encoded data removed]",
            "text/plain": [
              "<Figure size 432x288 with 1 Axes>"
            ]
          },
          "metadata": {
            "tags": [],
            "needs_background": "light"
          }
        }
      ]
    },
    {
      "cell_type": "code",
      "metadata": {
        "id": "t6F6nBqGuGw6",
        "colab_type": "code",
        "colab": {
          "base_uri": "https://localhost:8080/",
          "height": 35
        },
        "outputId": "76437dc2-5a19-4450-beda-4ed0d5d8a29e"
      },
      "source": [
        "y_pred=[]\n",
        "for i in xs:\n",
        "  y_pred.append(round(m*i+c))\n",
        "y_pred  \n",
        "\n"
      ],
      "execution_count": 32,
      "outputs": [
        {
          "output_type": "execute_result",
          "data": {
            "text/plain": [
              "[4.0, 5.0, 5.0, 6.0, 6.0, 7.0, 8.0, 9.0, 9.0]"
            ]
          },
          "metadata": {
            "tags": []
          },
          "execution_count": 32
        }
      ]
    },
    {
      "cell_type": "code",
      "metadata": {
        "id": "Kj0JmuJcu4Ru",
        "colab_type": "code",
        "colab": {
          "base_uri": "https://localhost:8080/",
          "height": 35
        },
        "outputId": "9aa6ce17-7e0d-40f2-b923-0fd5ee295e36"
      },
      "source": [
        "from sklearn.metrics import accuracy_score\n",
        "\n",
        "accuracy_score(ys,y_pred) #R square error"
      ],
      "execution_count": 33,
      "outputs": [
        {
          "output_type": "execute_result",
          "data": {
            "text/plain": [
              "0.4444444444444444"
            ]
          },
          "metadata": {
            "tags": []
          },
          "execution_count": 33
        }
      ]
    },
    {
      "cell_type": "code",
      "metadata": {
        "id": "T1pl-9FWvsYp",
        "colab_type": "code",
        "colab": {}
      },
      "source": [
        ""
      ],
      "execution_count": 0,
      "outputs": []
    }
  ]
}