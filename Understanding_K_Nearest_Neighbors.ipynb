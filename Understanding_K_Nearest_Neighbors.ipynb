{
  "nbformat": 4,
  "nbformat_minor": 0,
  "metadata": {
    "colab": {
      "name": "Understanding_K-Nearest_Neighbors",
      "provenance": [],
      "collapsed_sections": [],
      "authorship_tag": "ABX9TyMKhS8ig5CN9247ytusK9/o",
      "include_colab_link": true
    },
    "kernelspec": {
      "name": "python3",
      "display_name": "Python 3"
    }
  },
  "cells": [
    {
      "cell_type": "markdown",
      "metadata": {
        "id": "view-in-github",
        "colab_type": "text"
      },
      "source": [
        "<a href=\"https://colab.research.google.com/github/sakshamji/Data_Science/blob/master/Understanding_K_Nearest_Neighbors.ipynb\" target=\"_parent\"><img src=\"https://colab.research.google.com/assets/colab-badge.svg\" alt=\"Open In Colab\"/></a>"
      ]
    },
    {
      "cell_type": "markdown",
      "metadata": {
        "id": "_mufn_cRdRb9",
        "colab_type": "text"
      },
      "source": [
        "Coding K nearest neighbors from scratch"
      ]
    },
    {
      "cell_type": "code",
      "metadata": {
        "id": "S8cTRTy6clqy",
        "colab_type": "code",
        "colab": {}
      },
      "source": [
        "from math import sqrt\n",
        "import numpy as np\n",
        "import matplotlib.pyplot as plt\n",
        "from matplotlib import style\n",
        "from collections import Counter\n",
        "import warnings\n",
        "style.use('fivethirtyeight')\n"
      ],
      "execution_count": 0,
      "outputs": []
    },
    {
      "cell_type": "code",
      "metadata": {
        "id": "EK-SEbNpgRNW",
        "colab_type": "code",
        "colab": {
          "base_uri": "https://localhost:8080/",
          "height": 262
        },
        "outputId": "eb74b95b-5a2a-49ce-dc2d-0454a2e08e07"
      },
      "source": [
        "dataset={'k':[[1,2],[2,3],[3,1]],'r':[[6,5],[7,7],[8,6]]}\n",
        "new_feature=[5,7]\n",
        "for i in dataset:\n",
        "  for ii in dataset[i]:\n",
        "    plt.scatter(ii[0],ii[1],s=100,color=i)\n",
        "plt.scatter(new_feature[0],new_feature[1])\n",
        "plt.show()"
      ],
      "execution_count": 3,
      "outputs": [
        {
          "output_type": "display_data",
          "data": {
            "image/png": "[encoded data removed]",
            "text/plain": [
              "<Figure size 432x288 with 1 Axes>"
            ]
          },
          "metadata": {
            "tags": [],
            "needs_background": "light"
          }
        }
      ]
    },
    {
      "cell_type": "code",
      "metadata": {
        "id": "oXUddeRug-yc",
        "colab_type": "code",
        "colab": {}
      },
      "source": [
        "#by plot we can see the new_feature belongs to red cluster or 'r group\n",
        "\n",
        "def k_nearest_neighbors(data,predict,k=3):\n",
        "  if len(data)>=k:\n",
        "    warnings.warn('K is set to a value less than total voting groups!')\n",
        "  \n",
        "  distances=[]\n",
        "  for group in data:\n",
        "    for features in data[group]:\n",
        "      e_dist=np.linalg.norm(np.array(features)-np.array(predict))\n",
        "      distances.append([e_dist,group])\n",
        "  votes = [i[1] for i in sorted(distances)[:k]]\n",
        "  vote_result=Counter(votes).most_common(1)[0][0]     \n",
        "\n",
        "\n",
        "\n",
        "\n",
        "  return vote_result  \n"
      ],
      "execution_count": 0,
      "outputs": []
    },
    {
      "cell_type": "code",
      "metadata": {
        "id": "2ciuqITjkXrG",
        "colab_type": "code",
        "colab": {
          "base_uri": "https://localhost:8080/",
          "height": 35
        },
        "outputId": "0d05de78-9129-4a5f-cac1-cdd599769aef"
      },
      "source": [
        "result=k_nearest_neighbors(dataset,new_feature,k=3)\n",
        "print(result)"
      ],
      "execution_count": 8,
      "outputs": [
        {
          "output_type": "stream",
          "text": [
            "r\n"
          ],
          "name": "stdout"
        }
      ]
    },
    {
      "cell_type": "code",
      "metadata": {
        "id": "77IdjMRqkihP",
        "colab_type": "code",
        "colab": {}
      },
      "source": [
        "# so we got the result that we expected"
      ],
      "execution_count": 0,
      "outputs": []
    },
    {
      "cell_type": "code",
      "metadata": {
        "id": "mVfhNiedlD2t",
        "colab_type": "code",
        "colab": {}
      },
      "source": [
        ""
      ],
      "execution_count": 0,
      "outputs": []
    }
  ]
}